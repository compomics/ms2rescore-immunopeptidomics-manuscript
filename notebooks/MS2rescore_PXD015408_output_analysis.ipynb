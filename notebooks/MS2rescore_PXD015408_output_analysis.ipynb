{
 "cells": [
  {
   "cell_type": "code",
   "execution_count": 16,
   "metadata": {},
   "outputs": [],
   "source": [
    "import pandas as pd \n",
    "from ms2rescore import plotting\n",
    "from ms2rescore.percolator import PercolatorIn\n",
    "import seaborn as sns\n",
    "import matplotlib.pyplot as plt\n",
    "import numpy as np\n",
    "from mpl_toolkits.mplot3d import Axes3D\n",
    "import re\n",
    "import pickle\n",
    "from matplotlib_venn import venn2\n",
    "from collections import defaultdict\n",
    "from immuno_ms2rescore_tools import file_utilities\n"
   ]
  },
  {
   "cell_type": "code",
   "execution_count": 17,
   "metadata": {},
   "outputs": [],
   "source": [
    "sns.set_context(\"notebook\")"
   ]
  },
  {
   "cell_type": "code",
   "execution_count": 18,
   "metadata": {},
   "outputs": [],
   "source": [
    "def change_width(ax, new_value) :\n",
    "    for patch in ax.patches :\n",
    "        current_width = patch.get_width()\n",
    "        diff = current_width - new_value\n",
    "\n",
    "        # we change the bar width\n",
    "        patch.set_width(new_value)\n",
    "\n",
    "        # we recenter the bar\n",
    "        patch.set_x(patch.get_x() + diff * .5)"
   ]
  },
  {
   "cell_type": "markdown",
   "metadata": {},
   "source": [
    "# Count spectra"
   ]
  },
  {
   "cell_type": "code",
   "execution_count": 19,
   "metadata": {},
   "outputs": [
    {
     "name": "stderr",
     "output_type": "stream",
     "text": [
      "100%|██████████| 9/9 [00:01<00:00,  6.49it/s]\n"
     ]
    }
   ],
   "source": [
    "\n",
    "mgf_files = file_utilities.MascotGenericFormat(\"/home/arthur/ms2rescore-immunopeptidomics-manuscript/notebooks/data/PXD015408/mgf\")\n",
    "spectra_count = mgf_files.count_spectra()"
   ]
  },
  {
   "cell_type": "code",
   "execution_count": 20,
   "metadata": {},
   "outputs": [
    {
     "data": {
      "text/html": [
       "<div>\n",
       "<style scoped>\n",
       "    .dataframe tbody tr th:only-of-type {\n",
       "        vertical-align: middle;\n",
       "    }\n",
       "\n",
       "    .dataframe tbody tr th {\n",
       "        vertical-align: top;\n",
       "    }\n",
       "\n",
       "    .dataframe thead th {\n",
       "        text-align: right;\n",
       "    }\n",
       "</style>\n",
       "<table border=\"1\" class=\"dataframe\">\n",
       "  <thead>\n",
       "    <tr style=\"text-align: right;\">\n",
       "      <th></th>\n",
       "      <th>raw file</th>\n",
       "      <th>spectra</th>\n",
       "    </tr>\n",
       "  </thead>\n",
       "  <tbody>\n",
       "    <tr>\n",
       "      <th>0</th>\n",
       "      <td>Unanue_7733_180712_05</td>\n",
       "      <td>14626</td>\n",
       "    </tr>\n",
       "    <tr>\n",
       "      <th>1</th>\n",
       "      <td>ERU_7772_NOD_180916_07</td>\n",
       "      <td>16067</td>\n",
       "    </tr>\n",
       "    <tr>\n",
       "      <th>2</th>\n",
       "      <td>Unanue_7681_180316_04</td>\n",
       "      <td>24899</td>\n",
       "    </tr>\n",
       "    <tr>\n",
       "      <th>3</th>\n",
       "      <td>Unanue_7707_180517_03</td>\n",
       "      <td>14689</td>\n",
       "    </tr>\n",
       "    <tr>\n",
       "      <th>4</th>\n",
       "      <td>Unanue_7715_180601_08</td>\n",
       "      <td>12336</td>\n",
       "    </tr>\n",
       "    <tr>\n",
       "      <th>5</th>\n",
       "      <td>Unanue_7683_180322_03</td>\n",
       "      <td>21480</td>\n",
       "    </tr>\n",
       "    <tr>\n",
       "      <th>6</th>\n",
       "      <td>Unanue_7872_190321_06</td>\n",
       "      <td>33901</td>\n",
       "    </tr>\n",
       "    <tr>\n",
       "      <th>7</th>\n",
       "      <td>Unanue_7873_190321_10</td>\n",
       "      <td>42104</td>\n",
       "    </tr>\n",
       "    <tr>\n",
       "      <th>8</th>\n",
       "      <td>Unanue_7797_181026_04</td>\n",
       "      <td>18567</td>\n",
       "    </tr>\n",
       "    <tr>\n",
       "      <th>9</th>\n",
       "      <td>total</td>\n",
       "      <td>198669</td>\n",
       "    </tr>\n",
       "  </tbody>\n",
       "</table>\n",
       "</div>"
      ],
      "text/plain": [
       "                 raw file  spectra\n",
       "0   Unanue_7733_180712_05    14626\n",
       "1  ERU_7772_NOD_180916_07    16067\n",
       "2   Unanue_7681_180316_04    24899\n",
       "3   Unanue_7707_180517_03    14689\n",
       "4   Unanue_7715_180601_08    12336\n",
       "5   Unanue_7683_180322_03    21480\n",
       "6   Unanue_7872_190321_06    33901\n",
       "7   Unanue_7873_190321_10    42104\n",
       "8   Unanue_7797_181026_04    18567\n",
       "9                   total   198669"
      ]
     },
     "execution_count": 20,
     "metadata": {},
     "output_type": "execute_result"
    }
   ],
   "source": [
    "spectra_count"
   ]
  },
  {
   "cell_type": "markdown",
   "metadata": {},
   "source": [
    "# HLA-II peaks analysis"
   ]
  },
  {
   "cell_type": "code",
   "execution_count": 21,
   "metadata": {},
   "outputs": [],
   "source": [
    "path_pxd015408 = \"data/PXD015408/\"\n",
    "plotting.RescoreRecord.empty_rerecs()\n",
    "pin = plotting.PIN(path_pxd015408+\"peptides_1_1_0_searchengine_ms2pip_rt_features.pin\", sample_name=\"HLA-II\", score_metric=\"PEAKS:peptideScore\")\n",
    "searchengine = plotting.POUT(path_pxd015408+\"peptides_1_1_0_searchengine_features.pout\",path_pxd015408+\"peptides_1_1_0_searchengine_features.pout_dec\", rescoring_features=\"Search engine\", sample_name=\"HLA-II\")\n",
    "ms2rescore = plotting.POUT(path_pxd015408+\"peptides_1_1_0_searchengine_ms2pip_rt_features.pout\",path_pxd015408+\"peptides_1_1_0_searchengine_ms2pip_rt_features.pout_dec\", rescoring_features=\"MS²Rescore\", sample_name=\"HLA-II\")\n"
   ]
  },
  {
   "cell_type": "code",
   "execution_count": 22,
   "metadata": {},
   "outputs": [
    {
     "data": {
      "text/plain": [
       "9388"
      ]
     },
     "execution_count": 22,
     "metadata": {},
     "output_type": "execute_result"
    }
   ],
   "source": [
    "accepted_targets = list(ms2rescore.df[\"PSMId\"][(ms2rescore.df[\"q\"] < 0.01)])\n",
    "len(accepted_targets)"
   ]
  },
  {
   "cell_type": "code",
   "execution_count": 23,
   "metadata": {},
   "outputs": [],
   "source": [
    "HLA_II_length = pd.DataFrame()\n",
    "HLA_II_length[\"PSMId\"] = ms2rescore.df.PSMId\n",
    "HLA_II_length[\"length\"] = ms2rescore.df[\"peptide\"].apply(len)\n",
    "HLA_II_length[\"Label\"] = [\"decoy\" if  x else \"target\" for x in ms2rescore.df[\"is decoy\"]]\n",
    "HLA_II_length.loc[(HLA_II_length.PSMId.isin(accepted_targets)) & (HLA_II_length[\"Label\"] == \"target\"), \"Label\"] = \"accepted target\"\n",
    "HLA_II_length.reset_index(drop=True, inplace=True)\n"
   ]
  },
  {
   "cell_type": "code",
   "execution_count": 24,
   "metadata": {},
   "outputs": [
    {
     "data": {
      "text/plain": [
       "<AxesSubplot:xlabel='length', ylabel='Density'>"
      ]
     },
     "execution_count": 24,
     "metadata": {},
     "output_type": "execute_result"
    },
    {
     "data": {
      "image/png": "[encoded data removed]",
      "text/plain": [
       "<Figure size 432x288 with 1 Axes>"
      ]
     },
     "metadata": {},
     "output_type": "display_data"
    }
   ],
   "source": [
    "sns.kdeplot(\n",
    "    x=\"length\",\n",
    "    data=HLA_II_length,\n",
    "    hue=\"Label\",\n",
    "    common_norm=True, \n",
    "    linewidth=2, \n",
    "    bw_adjust=2,\n",
    ")"
   ]
  },
  {
   "cell_type": "code",
   "execution_count": 25,
   "metadata": {},
   "outputs": [
    {
     "data": {
      "image/png": "[encoded data removed]",
      "text/plain": [
       "<Figure size 864x720 with 1 Axes>"
      ]
     },
     "metadata": {},
     "output_type": "display_data"
    }
   ],
   "source": [
    "sns.set_style(style=\"whitegrid\")\n",
    "ax = plotting.RescoreRecord.qvalue_comparison()\n",
    "#ax.set_ylim(0,1000)\n",
    "#ax.vlines([0.01, 0.001],ymin=0,ymax=1000, colors=\"black\", linestyles=\"dashed\")\n",
    "plt.show()"
   ]
  },
  {
   "cell_type": "code",
   "execution_count": 26,
   "metadata": {},
   "outputs": [],
   "source": [
    "plotting.RescoreRecord._count_identifications([0.001, 0.01])\n",
    "plotting.RescoreRecord._separate_unique_peptides(FDR_threshold=[0.001, 0.01])\n",
    "plotting.RescoreRecord.calculate_loss_gain_df(FDR_threshold=[0.001,0.01], reference=\"After rescoring: Search engine\")"
   ]
  },
  {
   "cell_type": "code",
   "execution_count": 27,
   "metadata": {},
   "outputs": [
    {
     "data": {
      "image/png": "[encoded data removed]",
      "text/plain": [
       "<Figure size 936x432 with 2 Axes>"
      ]
     },
     "metadata": {},
     "output_type": "display_data"
    }
   ],
   "source": [
    "sns.set_style(\"whitegrid\")\n",
    "g = plotting.RescoreRecord.count_plot()\n",
    "for ax in g.axes[0]:\n",
    "    change_width(ax, 0.14)\n",
    "g.fig.set_size_inches(13, 6)\n",
    "g._legend.remove()\n",
    "#plt.legend(title='',bbox_to_anchor=(-0.53,1))\n",
    "plt.show()"
   ]
  },
  {
   "cell_type": "code",
   "execution_count": 28,
   "metadata": {},
   "outputs": [],
   "source": [
    "plotting.RescoreRecord.count_df[\"count\"] = (plotting.RescoreRecord.count_df[\"count\"]/198669) * 100"
   ]
  },
  {
   "cell_type": "code",
   "execution_count": null,
   "metadata": {},
   "outputs": [],
   "source": [
    "sns.set_context(\"notebook\", font_scale=1.3)\n",
    "fig = plt.Figure(figsize=(15,5))\n",
    "\n",
    "ax1 = plt.subplot2grid((2,3),(0,0), colspan=1, fig=fig)\n",
    "sns.barplot(\n",
    "    x=\"count\",\n",
    "    y=\"rescoring\",\n",
    "    data=plotting.RescoreRecord.count_df[plotting.RescoreRecord.count_df[\"FDR\"]== 0.01],\n",
    "    palette=sns.color_palette([\"#1AA3FF\",\"#1AA3FF\",\"#1AA3FF\",\"#B3E1FF\"]),\n",
    "    ax=ax1\n",
    ")\n",
    "ax1.set_ylabel(\"1% FDR\")\n",
    "ax1.yaxis.labelpad = 25\n",
    "ax1.set_xlabel(\"\")\n",
    "ax1.set_title(\"A\",loc=\"left\")\n",
    "\n",
    "ax2 = plt.subplot2grid((2,3),(0,1), colspan=1, fig=fig)\n",
    "sns.barplot(\n",
    "    x=\"count\",\n",
    "    y=\"rescoring\",\n",
    "    data=plotting.RescoreRecord.unique_df[plotting.RescoreRecord.unique_df[\"FDR\"]== 0.01],\n",
    "    palette=sns.color_palette([\"#1AA3FF\",\"#1AA3FF\",\"#1AA3FF\",\"#B3E1FF\"]),\n",
    "    ax=ax2\n",
    ")\n",
    "ax2.set_ylabel(\"\")\n",
    "ax2.set_yticklabels([])\n",
    "ax2.set_xlabel(\"\")\n",
    "\n",
    "ax2.set_title(\"C\",loc=\"left\")\n",
    "\n",
    "ax3 = plt.subplot2grid((2,3),(0,2),colspan=1, fig=fig)\n",
    "sns.barplot(\n",
    "    y=\"feature\",\n",
    "    x=\"gain\",\n",
    "    data=plotting.RescoreRecord.loss_gain_df[plotting.RescoreRecord.loss_gain_df[\"FDR\"]== 0.01],\n",
    "    palette=sns.color_palette([\"#2FA92D\",\"#2FA92D\",\"#2FA92D\",\"#B3EBB2\"]),\n",
    "    ax=ax3,\n",
    "    label=\"gain\"\n",
    ")\n",
    "sns.barplot(\n",
    "    y=\"feature\",\n",
    "    x=\"shared\",\n",
    "    data=plotting.RescoreRecord.loss_gain_df[plotting.RescoreRecord.loss_gain_df[\"FDR\"]== 0.01],\n",
    "    palette=sns.color_palette([\"#1AA3FF\",\"#1AA3FF\",\"#1AA3FF\",\"#B3E1FF\"]),\n",
    "    ax=ax3,\n",
    "    label=\"shared\"\n",
    ")\n",
    "sns.barplot(\n",
    "    y=\"feature\",\n",
    "    x=\"loss\",\n",
    "    data=plotting.RescoreRecord.loss_gain_df[plotting.RescoreRecord.loss_gain_df[\"FDR\"]== 0.01],\n",
    "    palette=sns.color_palette([\"#FF0000\",\"#FF0000\",\"#FF0000\",\"#FFABAB\"]),\n",
    "    ax=ax3,\n",
    "    label=\"loss\"\n",
    ")\n",
    "ax3.set_xlim(-10,210)\n",
    "ax3.set_ylabel(\"\")\n",
    "handles, labels = ax3.get_legend_handles_labels()\n",
    "ax3.legend(\n",
    "    [handles[idx] for idx in [2,1,0]],\n",
    "    [labels[idx] for idx in [2,1,0]],\n",
    "    frameon=False, \n",
    "    ncol=3, \n",
    "    bbox_to_anchor=(1.0,1.41),\n",
    "    handletextpad=0.5, \n",
    "    handlelength=0.85, \n",
    "    columnspacing=0.5\n",
    ")\n",
    "ax3.set_xlabel(\"\")\n",
    "ax3.set_yticklabels([])\n",
    "ax3.set_title(\"E\",loc=\"left\")\n",
    "\n",
    "\n",
    "\n",
    "ax4 = plt.subplot2grid((2,3),(1,0),colspan=1, fig=fig, sharex=ax1)\n",
    "sns.barplot(\n",
    "    x=\"count\",\n",
    "    y=\"rescoring\",\n",
    "    data=plotting.RescoreRecord.count_df[plotting.RescoreRecord.count_df[\"FDR\"]== 0.001],\n",
    "    palette=sns.color_palette([\"#1AA3FF\",\"#1AA3FF\",\"#1AA3FF\",\"#B3E1FF\"]),\n",
    "    ax=ax4\n",
    ")\n",
    "ax4.set_ylabel(\"0.1% FDR\")\n",
    "ax4.yaxis.labelpad = 25\n",
    "ax4.set_xlabel(\"spectrum identification rate (%)\")\n",
    "ax4.xaxis.labelpad = 15\n",
    "ax4.set_title(\"B\",loc=\"left\")\n",
    "\n",
    "ax5 = plt.subplot2grid((2,3),(1,1),colspan=1, fig=fig, sharex=ax2)\n",
    "sns.barplot(\n",
    "    x=\"count\",\n",
    "    y=\"rescoring\",\n",
    "    data=plotting.RescoreRecord.unique_df[plotting.RescoreRecord.unique_df[\"FDR\"]== 0.001],\n",
    "    palette=sns.color_palette([\"#1AA3FF\",\"#1AA3FF\",\"#1AA3FF\",\"#B3E1FF\"]),\n",
    "    ax=ax5\n",
    ")\n",
    "ax5.set_ylabel(\"\")\n",
    "ax5.set_yticklabels([])\n",
    "ax5.set_xlabel(\"unique peptides\")\n",
    "ax5.xaxis.labelpad = 15\n",
    "ax5.set_title(\"D\",loc=\"left\")\n",
    "\n",
    "ax6 = plt.subplot2grid((2,3),(1,2),colspan=1, fig=fig, sharex=ax3)\n",
    "sns.barplot(\n",
    "    y=\"feature\",\n",
    "    x=\"gain\",\n",
    "    data=plotting.RescoreRecord.loss_gain_df[plotting.RescoreRecord.loss_gain_df[\"FDR\"]== 0.001],\n",
    "    palette=sns.color_palette([\"#2FA92D\",\"#2FA92D\",\"#2FA92D\",\"#B3EBB2\"]),\n",
    "    ax=ax6,\n",
    ")\n",
    "sns.barplot(\n",
    "    y=\"feature\",\n",
    "    x=\"shared\",\n",
    "    data=plotting.RescoreRecord.loss_gain_df[plotting.RescoreRecord.loss_gain_df[\"FDR\"]== 0.001],\n",
    "    palette=sns.color_palette([\"#1AA3FF\",\"#1AA3FF\",\"#1AA3FF\",\"#B3E1FF\"]),\n",
    "    ax=ax6,\n",
    ")\n",
    "sns.barplot(\n",
    "    y=\"feature\",\n",
    "    x=\"loss\",\n",
    "    data=plotting.RescoreRecord.loss_gain_df[plotting.RescoreRecord.loss_gain_df[\"FDR\"]== 0.001],\n",
    "    palette=sns.color_palette([\"#FF0000\",\"#FF0000\",\"#FF0000\",\"#FFABAB\"]),\n",
    "    ax=ax6,\n",
    ")\n",
    "ax6.set_ylabel(\"\")\n",
    "ax6.set_xlabel(\"identfication overlap (%)\")\n",
    "ax6.xaxis.labelpad = 15\n",
    "ax6.set_yticklabels([])\n",
    "ax6.set_title(\"F\",loc=\"left\")\n",
    "fig.tight_layout(rect=[0, 0, 1, 1])\n",
    "fig.savefig(\"data/Figures/FigureS7.svg\")\n"
   ]
  },
  {
   "cell_type": "code",
   "execution_count": null,
   "metadata": {},
   "outputs": [
    {
     "data": {
      "text/html": [
       "<div>\n",
       "<style scoped>\n",
       "    .dataframe tbody tr th:only-of-type {\n",
       "        vertical-align: middle;\n",
       "    }\n",
       "\n",
       "    .dataframe tbody tr th {\n",
       "        vertical-align: top;\n",
       "    }\n",
       "\n",
       "    .dataframe thead th {\n",
       "        text-align: right;\n",
       "    }\n",
       "</style>\n",
       "<table border=\"1\" class=\"dataframe\">\n",
       "  <thead>\n",
       "    <tr style=\"text-align: right;\">\n",
       "      <th></th>\n",
       "      <th>sample</th>\n",
       "      <th>feature</th>\n",
       "      <th>FDR</th>\n",
       "      <th>shared</th>\n",
       "      <th>gain</th>\n",
       "      <th>loss</th>\n",
       "    </tr>\n",
       "  </thead>\n",
       "  <tbody>\n",
       "    <tr>\n",
       "      <th>0</th>\n",
       "      <td>HLA-II</td>\n",
       "      <td>Before rescoring</td>\n",
       "      <td>0.001</td>\n",
       "      <td>100.000000</td>\n",
       "      <td>108.768116</td>\n",
       "      <td>-0.000000</td>\n",
       "    </tr>\n",
       "    <tr>\n",
       "      <th>1</th>\n",
       "      <td>HLA-II</td>\n",
       "      <td>After rescoring: Search engine</td>\n",
       "      <td>0.001</td>\n",
       "      <td>100.000000</td>\n",
       "      <td>100.000000</td>\n",
       "      <td>-0.000000</td>\n",
       "    </tr>\n",
       "    <tr>\n",
       "      <th>2</th>\n",
       "      <td>HLA-II</td>\n",
       "      <td>After rescoring: MS²Rescore</td>\n",
       "      <td>0.001</td>\n",
       "      <td>99.927536</td>\n",
       "      <td>201.086957</td>\n",
       "      <td>-0.072464</td>\n",
       "    </tr>\n",
       "    <tr>\n",
       "      <th>3</th>\n",
       "      <td>HLA-II</td>\n",
       "      <td>Before rescoring</td>\n",
       "      <td>0.010</td>\n",
       "      <td>99.928648</td>\n",
       "      <td>100.249732</td>\n",
       "      <td>-0.071352</td>\n",
       "    </tr>\n",
       "    <tr>\n",
       "      <th>4</th>\n",
       "      <td>HLA-II</td>\n",
       "      <td>After rescoring: Search engine</td>\n",
       "      <td>0.010</td>\n",
       "      <td>100.000000</td>\n",
       "      <td>100.000000</td>\n",
       "      <td>-0.000000</td>\n",
       "    </tr>\n",
       "    <tr>\n",
       "      <th>5</th>\n",
       "      <td>HLA-II</td>\n",
       "      <td>After rescoring: MS²Rescore</td>\n",
       "      <td>0.010</td>\n",
       "      <td>96.824831</td>\n",
       "      <td>116.232608</td>\n",
       "      <td>-3.175169</td>\n",
       "    </tr>\n",
       "  </tbody>\n",
       "</table>\n",
       "</div>"
      ],
      "text/plain": [
       "   sample                         feature    FDR      shared        gain  \\\n",
       "0  HLA-II                Before rescoring  0.001  100.000000  108.768116   \n",
       "1  HLA-II  After rescoring: Search engine  0.001  100.000000  100.000000   \n",
       "2  HLA-II     After rescoring: MS²Rescore  0.001   99.927536  201.086957   \n",
       "3  HLA-II                Before rescoring  0.010   99.928648  100.249732   \n",
       "4  HLA-II  After rescoring: Search engine  0.010  100.000000  100.000000   \n",
       "5  HLA-II     After rescoring: MS²Rescore  0.010   96.824831  116.232608   \n",
       "\n",
       "       loss  \n",
       "0 -0.000000  \n",
       "1 -0.000000  \n",
       "2 -0.072464  \n",
       "3 -0.071352  \n",
       "4 -0.000000  \n",
       "5 -3.175169  "
      ]
     },
     "execution_count": 15,
     "metadata": {},
     "output_type": "execute_result"
    }
   ],
   "source": [
    "plotting.RescoreRecord.loss_gain_df"
   ]
  },
  {
   "cell_type": "markdown",
   "metadata": {},
   "source": [
    "# Weight analysis"
   ]
  },
  {
   "cell_type": "code",
   "execution_count": null,
   "metadata": {},
   "outputs": [],
   "source": [
    "def calculate_feature_weights(weights_file):\n",
    "    feature_weights = {}\n",
    "\n",
    "    weights = pd.read_table(weights_file, sep=\"\\t\")\n",
    "    weights.drop([1,2,4,5,7], axis=0, inplace=True)\n",
    "    weights.drop(\"m0\", axis=1, inplace=True)\n",
    "    weights = weights.astype(float)\n",
    "    weights.loc[\"mean\"] = weights.mean()\n",
    "\n",
    "    total_weight = sum(weights.iloc[3, :71].abs()) + sum(weights.iloc[3, 71:77].abs()) + sum(weights.iloc[3, 77:].abs())\n",
    "    feature_weights[\"MS²PIP\"] = (sum(weights.iloc[3, :71].abs())  /total_weight) * 100\n",
    "    feature_weights[\"DeepLC\"] = (sum(weights.iloc[3, 71:77].abs()) /total_weight) * 100\n",
    "    feature_weights[\"Search engine\"] = (sum(weights.iloc[3, 77:].abs()) /total_weight) * 100\n",
    "    \n",
    "    return feature_weights"
   ]
  },
  {
   "cell_type": "code",
   "execution_count": null,
   "metadata": {},
   "outputs": [],
   "source": [
    "ft_weights = calculate_feature_weights(\"data/PXD015408/peptides_1_1_0_searchengine_ms2pip_rt_features.weights\")"
   ]
  },
  {
   "cell_type": "code",
   "execution_count": null,
   "metadata": {},
   "outputs": [
    {
     "data": {
      "text/plain": [
       "{'MS²PIP': 74.35935474591741,\n",
       " 'DeepLC': 15.770967908261246,\n",
       " 'Search engine': 9.869677345821344}"
      ]
     },
     "execution_count": 18,
     "metadata": {},
     "output_type": "execute_result"
    }
   ],
   "source": [
    "ft_weights"
   ]
  },
  {
   "cell_type": "code",
   "execution_count": null,
   "metadata": {},
   "outputs": [],
   "source": []
  }
 ],
 "metadata": {
  "interpreter": {
   "hash": "6eb6a9e0b3a52793eeab5d68c88975e829490e81355b7375f73ca3fc633a0ed0"
  },
  "kernelspec": {
   "display_name": "Python 3.8.12 ('ms2pip-dev')",
   "language": "python",
   "name": "python3"
  },
  "language_info": {
   "codemirror_mode": {
    "name": "ipython",
    "version": 3
   },
   "file_extension": ".py",
   "mimetype": "text/x-python",
   "name": "python",
   "nbconvert_exporter": "python",
   "pygments_lexer": "ipython3",
   "version": "3.8.12"
  },
  "orig_nbformat": 4
 },
 "nbformat": 4,
 "nbformat_minor": 2
}
