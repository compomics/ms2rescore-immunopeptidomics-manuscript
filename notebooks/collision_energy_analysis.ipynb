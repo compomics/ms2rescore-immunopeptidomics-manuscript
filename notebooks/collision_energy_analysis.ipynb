{
 "cells": [
  {
   "cell_type": "code",
   "execution_count": 1,
   "metadata": {},
   "outputs": [],
   "source": [
    "import pandas as pd \n",
    "from ms2rescore import plotting\n",
    "from immuno_ms2rescore_tools import file_utilities\n",
    "from ms2rescore.percolator import PercolatorIn\n",
    "import seaborn as sns\n",
    "import matplotlib.pyplot as plt\n",
    "import numpy as np\n",
    "from functools import reduce\n",
    "from collections import defaultdict"
   ]
  },
  {
   "cell_type": "markdown",
   "metadata": {},
   "source": [
    "# Loading rescore data en plotting spectrum identification count & rate"
   ]
  },
  {
   "cell_type": "code",
   "execution_count": 2,
   "metadata": {},
   "outputs": [],
   "source": [
    "ce_path = \"/public/compomics/arthur/CNRS/ce_eval/msms_all/\"\n",
    "\n",
    "plotting.RescoreRecord.empty_rerecs()\n",
    "\n",
    "pin = plotting.PIN(ce_path+\"msms_searchengine_ms2pip_rt_features.pin\", sample_name=\"CE\", score_metric=\"RawScore\")\n",
    "searchengine = plotting.POUT(ce_path+\"msms_searchengine_features.pout\",ce_path+\"msms_searchengine_features.pout_dec\", rescoring_features=\"Search engine\", sample_name=\"CE\")\n",
    "ms2rescore = plotting.POUT(ce_path+\"msms_searchengine_ms2pip_rt_features.pout\",ce_path+\"msms_searchengine_ms2pip_rt_features.pout_dec\", rescoring_features=\"MS²Rescore\", sample_name=\"CE\")\n"
   ]
  },
  {
   "cell_type": "code",
   "execution_count": 3,
   "metadata": {},
   "outputs": [],
   "source": [
    "plotting.RescoreRecord._count_identifications([0.001, 0.01])\n",
    "plotting.RescoreRecord._separate_unique_peptides(FDR_threshold=[0.001, 0.01])\n",
    "plotting.RescoreRecord.calculate_loss_gain_df(FDR_threshold=[0.001,0.01],reference=\"Before rescoring\")"
   ]
  },
  {
   "cell_type": "code",
   "execution_count": 4,
   "metadata": {},
   "outputs": [
    {
     "name": "stderr",
     "output_type": "stream",
     "text": [
      "100%|██████████| 15/15 [00:19<00:00,  1.28s/it]"
     ]
    },
    {
     "name": "stdout",
     "output_type": "stream",
     "text": [
      "419567\n"
     ]
    },
    {
     "name": "stderr",
     "output_type": "stream",
     "text": [
      "\n"
     ]
    }
   ],
   "source": [
    "\n",
    "mgf_files = file_utilities.MascotGenericFormat(\"/public/compomics/arthur/CNRS/ce_eval/mgf\")\n",
    "spectra_count = mgf_files.count_spectra()\n",
    "spectra_count.set_index(\"raw file\",inplace=True)\n",
    "\n",
    "total_spectra = spectra_count.loc[\"total\"][\"spectra\"]\n",
    "print(total_spectra)\n",
    "plotting.RescoreRecord.count_df[\"count\"] = (plotting.RescoreRecord.count_df[\"count\"]/total_spectra) * 100"
   ]
  },
  {
   "cell_type": "code",
   "execution_count": 5,
   "metadata": {},
   "outputs": [
    {
     "data": {
      "image/png": "[encoded data removed]",
      "text/plain": [
       "<Figure size 864x216 with 2 Axes>"
      ]
     },
     "execution_count": 5,
     "metadata": {},
     "output_type": "execute_result"
    }
   ],
   "source": [
    "sns.set_style(\"whitegrid\")\n",
    "sns.set_context(\"notebook\", font_scale=1.2)\n",
    "fig = plt.Figure(figsize=(12,3))\n",
    "\n",
    "ax1 = plt.subplot2grid((1,4),(0,0), colspan=1, fig=fig)\n",
    "sns.barplot(\n",
    "    x=\"count\",\n",
    "    y=\"rescoring\",\n",
    "    data=plotting.RescoreRecord.count_df[plotting.RescoreRecord.count_df[\"FDR\"]== 0.01],\n",
    "    palette=sns.color_palette([\"#1AA3FF\",\"#1AA3FF\",\"#1AA3FF\",\"#B3E1FF\"]),\n",
    "    ax=ax1\n",
    ")\n",
    "ax1.set_ylabel(\"\")\n",
    "ax1.set_xlabel(\"\")\n",
    "ax1.set_title(\"A\",loc=\"left\")\n",
    "ax2 = plt.subplot2grid((1,4),(0,1),colspan=3, fig=fig)\n",
    "sns.barplot(\n",
    "    y=\"feature\",\n",
    "    x=\"gain\",\n",
    "    data=plotting.RescoreRecord.loss_gain_df[plotting.RescoreRecord.loss_gain_df[\"FDR\"]== 0.01],\n",
    "    palette=sns.color_palette([\"#2FA92D\",\"#2FA92D\",\"#2FA92D\",\"#B3EBB2\"]),\n",
    "    ax=ax2,\n",
    ")\n",
    "sns.barplot(\n",
    "    y=\"feature\",\n",
    "    x=\"shared\",\n",
    "    data=plotting.RescoreRecord.loss_gain_df[plotting.RescoreRecord.loss_gain_df[\"FDR\"]== 0.01],\n",
    "    palette=sns.color_palette([\"#1AA3FF\",\"#1AA3FF\",\"#1AA3FF\",\"#B3E1FF\"]),\n",
    "    ax=ax2,\n",
    ")\n",
    "sns.barplot(\n",
    "    y=\"feature\",\n",
    "    x=\"loss\",\n",
    "    data=plotting.RescoreRecord.loss_gain_df[plotting.RescoreRecord.loss_gain_df[\"FDR\"]== 0.01],\n",
    "    palette=sns.color_palette([\"#FF0000\",\"#FF0000\",\"#FF0000\",\"#FFABAB\"]),\n",
    "    ax=ax2,\n",
    ")\n",
    "ax2.set_ylabel(\"\")\n",
    "ax2.set_xlabel(\"\")\n",
    "ax2.set_yticklabels([])\n",
    "ax2.set_title(\"B\",loc=\"left\")\n",
    "\n",
    "fig"
   ]
  },
  {
   "cell_type": "markdown",
   "metadata": {},
   "source": [
    "# Collision energy results"
   ]
  },
  {
   "cell_type": "code",
   "execution_count": 6,
   "metadata": {},
   "outputs": [],
   "source": [
    "def map_psmid_ce_value(psmids: pd.Series, mapper: dict):\n",
    "    if \".\" in psmids.iloc[0]:\n",
    "        ce_values = psmids.str.split(\".\", 1, expand=True)[0].map(mapper)\n",
    "    else:\n",
    "        ce_values = psmids.map(mapper)\n",
    "    return ce_values"
   ]
  },
  {
   "cell_type": "code",
   "execution_count": 8,
   "metadata": {},
   "outputs": [],
   "source": [
    "summary_df = pd.read_table(\"/public/compomics/arthur/CNRS/ce_eval/txt/summary.txt\")\n",
    "summary_df[\"CE\"] = summary_df.Experiment.str.extract(r\"CE (\\d*) rep\", expand=True)"
   ]
  },
  {
   "cell_type": "code",
   "execution_count": 9,
   "metadata": {},
   "outputs": [
    {
     "data": {
      "text/plain": [
       "nan"
      ]
     },
     "execution_count": 9,
     "metadata": {},
     "output_type": "execute_result"
    }
   ],
   "source": [
    "ce_raw_map = pd.Series(summary_df.CE.values,index=summary_df[\"Raw file\"]).to_dict()\n",
    "ce_raw_map.pop(\"Total\")"
   ]
  },
  {
   "cell_type": "code",
   "execution_count": 10,
   "metadata": {},
   "outputs": [],
   "source": [
    "ce_spectra_count = defaultdict(int)\n",
    "for rawfile in ce_raw_map.keys():\n",
    "    try:\n",
    "        ce_spectra_count[ce_raw_map[rawfile]] += spectra_count.loc[rawfile][\"spectra\"]\n",
    "    except KeyError:\n",
    "        continue"
   ]
  },
  {
   "cell_type": "code",
   "execution_count": 11,
   "metadata": {},
   "outputs": [],
   "source": [
    "rescoring_methods = [\"no rescoring\", \"searchengine\", \"ms2rescore\"]\n",
    "ce_counts = []\n",
    "for i, df in enumerate([pin.df, searchengine.df, ms2rescore.df]):\n",
    "    rescoring_df = df.copy()\n",
    "    rescoring_df[\"CE\"] = map_psmid_ce_value(rescoring_df.PSMId, ce_raw_map)\n",
    "    tmp = rescoring_df[(rescoring_df[\"q\"] < 0.01) & (rescoring_df[\"is decoy\"] == False)].groupby(\"CE\").agg({\"peptide\":\"count\", \"PSMId\": list}).reset_index().rename({\"peptide\": f\"psm count {rescoring_methods[i]}\",\"PSMId\": f\"PSMId_{rescoring_methods[i]}\"}, axis=1)\n",
    "    ce_counts.append(tmp)\n",
    "\n",
    "ce_count_df = reduce(lambda left,right:pd.merge(left, right, on=[\"CE\"], how=\"outer\"), ce_counts)\n",
    "ce_count_df = ce_count_df[[\"CE\", \"psm count no rescoring\", \"psm count searchengine\", \"psm count ms2rescore\", \"PSMId_no rescoring\", \"PSMId_searchengine\", \"PSMId_ms2rescore\"]]"
   ]
  },
  {
   "cell_type": "code",
   "execution_count": 12,
   "metadata": {},
   "outputs": [],
   "source": [
    "ms2rescore_loss_gain = []\n",
    "for i,row in ce_count_df.iterrows():\n",
    "    tmp = {}\n",
    "    tmp[\"CE\"] = row.CE\n",
    "    num_ids = len(set(row[\"PSMId_searchengine\"]))\n",
    "    tmp[\"shared\"] = (len(set(row[\"PSMId_searchengine\"]).intersection(set(row.PSMId_ms2rescore)))/num_ids) * 100\n",
    "    tmp[\"gain\"] = (len(set(row.PSMId_ms2rescore) - set(row[\"PSMId_searchengine\"]))/num_ids) * 100\n",
    "    tmp[\"loss\"] = (len(set(row[\"PSMId_searchengine\"]) - set(row.PSMId_ms2rescore))/num_ids) * 100\n",
    "    ms2rescore_loss_gain.append(tmp)\n",
    "ms2rescore_loss_gain = pd.DataFrame(ms2rescore_loss_gain)"
   ]
  },
  {
   "cell_type": "code",
   "execution_count": 13,
   "metadata": {},
   "outputs": [],
   "source": [
    "ms2rescore_loss_gain[\"loss\"] =ms2rescore_loss_gain[\"loss\"] * -1\n",
    "ms2rescore_loss_gain[\"gain\"] =ms2rescore_loss_gain[\"gain\"] + 100"
   ]
  },
  {
   "cell_type": "code",
   "execution_count": 14,
   "metadata": {},
   "outputs": [],
   "source": [
    "ce_count_df.sort_values(\"psm count searchengine\", ascending=False, inplace=True)\n",
    "ms2rescore_loss_gain = ms2rescore_loss_gain.reindex(ce_count_df[\"CE\"].index)"
   ]
  },
  {
   "cell_type": "code",
   "execution_count": 15,
   "metadata": {},
   "outputs": [
    {
     "data": {
      "image/png": "[encoded data removed]",
      "text/plain": [
       "<Figure size 576x216 with 1 Axes>"
      ]
     },
     "execution_count": 15,
     "metadata": {},
     "output_type": "execute_result"
    }
   ],
   "source": [
    "sns.set_style(\"whitegrid\")\n",
    "fig = plt.Figure(figsize=(8,3))\n",
    "sns.set_color_codes(\"deep\")\n",
    "\n",
    "ax1 = fig.add_subplot(111)\n",
    "\n",
    "ce_relative_count = ce_count_df.copy()\n",
    "ce_relative_count.iloc[:,1:4] = ce_relative_count.iloc[:,1:4].div(ce_count_df[\"psm count no rescoring\"].values, axis=0)\n",
    "ce_relative_count.iloc[:,1:4] = ce_relative_count.iloc[:,1:4] * 100\n",
    "\n",
    "sns.barplot(x=\"psm count ms2rescore\", y=\"CE\", label=\"ms2rescore\", data=ce_relative_count, color=\"#2ca02c\", ax=ax1)\n",
    "sns.barplot(x=\"psm count searchengine\", y=\"CE\", label=\"searchengine\", data=ce_relative_count, color=\"#ff7f0e\", ax=ax1)\n",
    "sns.barplot(x=\"psm count no rescoring\", y=\"CE\", label=\"no rescoring\", data=ce_relative_count, color=\"#1f77b4\", ax=ax1)\n",
    "\n",
    "ax1.set_xlabel(\"identified PSMs (%)\")\n",
    "sns.despine(left=True, right=True, top=True, ax=ax1)\n",
    "fig\n"
   ]
  },
  {
   "cell_type": "code",
   "execution_count": 16,
   "metadata": {},
   "outputs": [
    {
     "data": {
      "image/png": "[encoded data removed]",
      "text/plain": [
       "<Figure size 1080x216 with 2 Axes>"
      ]
     },
     "execution_count": 16,
     "metadata": {},
     "output_type": "execute_result"
    }
   ],
   "source": [
    "sns.set_style(\"whitegrid\")\n",
    "fig = plt.Figure(figsize=(15,3))\n",
    "sns.set_color_codes(\"deep\")\n",
    "\n",
    "ax1 = fig.add_subplot(121)\n",
    "\n",
    "ce_id_rate = ce_count_df.copy()\n",
    "ce_id_rate.iloc[:,1:4] = ce_id_rate.iloc[:,1:4].div(pd.Series(ce_spectra_count).reindex(ce_id_rate[\"CE\"]).values, axis=0)\n",
    "\n",
    "sns.barplot(x=\"psm count ms2rescore\", y=\"CE\", label=\"ms2rescore\", data=ce_id_rate, color=\"#2ca02c\", ax=ax1)\n",
    "sns.barplot(x=\"psm count searchengine\", y=\"CE\", label=\"searchengine\", data=ce_id_rate, color=\"#ff7f0e\", ax=ax1)\n",
    "sns.barplot(x=\"psm count no rescoring\", y=\"CE\", label=\"no rescoring\", data=ce_id_rate, color=\"#1f77b4\", ax=ax1)\n",
    "\n",
    "ax1.set_xlabel(\"Spectrum identification rate(%)\")\n",
    "sns.despine(left=True, right=True, top=True, ax=ax1)\n",
    "\n",
    "ax2 = fig.add_subplot(122)\n",
    "\n",
    "sns.barplot(\n",
    "    y=\"CE\",\n",
    "    x=\"gain\",\n",
    "    data=ms2rescore_loss_gain,\n",
    "    palette=sns.color_palette([\"#2FA92D\"]),\n",
    "    ax=ax2,\n",
    ")\n",
    "sns.barplot(\n",
    "    y=\"CE\",\n",
    "    x=\"shared\",\n",
    "    data=ms2rescore_loss_gain,\n",
    "    palette=sns.color_palette([\"#1AA3FF\"]),\n",
    "    ax=ax2,\n",
    ")\n",
    "sns.barplot(\n",
    "    y=\"CE\",\n",
    "    x=\"loss\",\n",
    "    data=ms2rescore_loss_gain,\n",
    "    palette=sns.color_palette([\"#FF0000\"]),\n",
    "    ax=ax2,\n",
    ")\n",
    "ax2.set_xlabel(\"Identfied PSMs(%)\")\n",
    "ax2.set_ylabel(\"\")\n",
    "ax2.set(yticklabels=[])\n",
    "sns.despine(left=True, right=True, top=True, ax=ax2)\n",
    "\n",
    "fig\n",
    "\n"
   ]
  },
  {
   "cell_type": "markdown",
   "metadata": {},
   "source": [
    "# Separate rescoring"
   ]
  },
  {
   "cell_type": "code",
   "execution_count": 19,
   "metadata": {},
   "outputs": [],
   "source": [
    "ce_path = \"/public/compomics/arthur/CNRS/ce_eval/msms_ce/\"\n",
    "plotting.RescoreRecord.empty_rerecs()\n",
    "pins = []\n",
    "searchengines = []\n",
    "ms2rescores = []\n",
    "for ce_value in [\"25\", \"27\", \"30\", \"32\" ,\"35\"]:\n",
    "    pin = plotting.PIN(ce_path+f\"msms{ce_value}_searchengine_ms2pip_rt_features.pin\", sample_name=f\"CE_{ce_value}\", score_metric=\"RawScore\")\n",
    "    pins.append(pin.df)\n",
    "    searchengine = plotting.POUT(ce_path+f\"msms{ce_value}_searchengine_features.pout\",ce_path+f\"msms{ce_value}_searchengine_features.pout_dec\", rescoring_features=\"Search engine\", sample_name=f\"CE_{ce_value}\")\n",
    "    searchengines.append(searchengine.df)\n",
    "    ms2rescore = plotting.POUT(ce_path+f\"msms{ce_value}_searchengine_ms2pip_rt_features.pout\",ce_path+f\"msms{ce_value}_searchengine_ms2pip_rt_features.pout_dec\", rescoring_features=\"MS²Rescore\", sample_name=f\"CE_{ce_value}\")\n",
    "    ms2rescores.append(ms2rescore.df)"
   ]
  },
  {
   "cell_type": "code",
   "execution_count": 20,
   "metadata": {},
   "outputs": [],
   "source": [
    "ce_path = \"/public/compomics/arthur/CNRS/ce_eval/msms_all/\"\n",
    "\n",
    "plotting.RescoreRecord.empty_rerecs()\n",
    "\n",
    "pin = plotting.PIN(ce_path+\"msms_searchengine_ms2pip_rt_features.pin\", sample_name=\"CE\", score_metric=\"RawScore\")\n",
    "searchengine = plotting.POUT(ce_path+\"msms_searchengine_features.pout\",ce_path+\"msms_searchengine_features.pout_dec\", rescoring_features=\"Search engine\", sample_name=\"CE\")\n",
    "ms2rescore = plotting.POUT(ce_path+\"msms_searchengine_ms2pip_rt_features.pout\",ce_path+\"msms_searchengine_ms2pip_rt_features.pout_dec\", rescoring_features=\"MS²Rescore\", sample_name=\"CE\")"
   ]
  },
  {
   "cell_type": "code",
   "execution_count": 21,
   "metadata": {},
   "outputs": [],
   "source": [
    "pin.df = pd.concat(pins).reset_index(drop=True)\n",
    "searchengine.df = pd.concat(searchengines).reset_index(drop=True)\n",
    "ms2rescore.df = pd.concat(ms2rescores).reset_index(drop=True)"
   ]
  },
  {
   "cell_type": "code",
   "execution_count": 22,
   "metadata": {},
   "outputs": [],
   "source": [
    "plotting.RescoreRecord._count_identifications([0.001, 0.01])\n",
    "plotting.RescoreRecord._separate_unique_peptides(FDR_threshold=[0.001, 0.01])\n",
    "plotting.RescoreRecord.calculate_loss_gain_df(FDR_threshold=[0.001,0.01],reference=\"Before rescoring\")"
   ]
  },
  {
   "cell_type": "markdown",
   "metadata": {},
   "source": [
    "# Collision energy results"
   ]
  },
  {
   "cell_type": "code",
   "execution_count": 23,
   "metadata": {},
   "outputs": [],
   "source": [
    "def map_psmid_ce_value(psmids: pd.Series, mapper: dict):\n",
    "    if \".\" in psmids.iloc[0]:\n",
    "        ce_values = psmids.str.split(\".\", 1, expand=True)[0].map(mapper)\n",
    "    else:\n",
    "        ce_values = psmids.map(mapper)\n",
    "    return ce_values"
   ]
  },
  {
   "cell_type": "code",
   "execution_count": 24,
   "metadata": {},
   "outputs": [],
   "source": [
    "summary_df = pd.read_table(\"/public/compomics/arthur/CNRS/ce_eval/txt/summary.txt\")\n",
    "summary_df[\"CE\"] = summary_df.Experiment.str.extract(r\"CE (\\d*) rep\", expand=True)"
   ]
  },
  {
   "cell_type": "code",
   "execution_count": 25,
   "metadata": {},
   "outputs": [
    {
     "data": {
      "text/plain": [
       "nan"
      ]
     },
     "execution_count": 25,
     "metadata": {},
     "output_type": "execute_result"
    }
   ],
   "source": [
    "ce_raw_map = pd.Series(summary_df.CE.values,index=summary_df[\"Raw file\"]).to_dict()\n",
    "ce_raw_map.pop(\"Total\")"
   ]
  },
  {
   "cell_type": "code",
   "execution_count": 26,
   "metadata": {},
   "outputs": [],
   "source": [
    "ce_spectra_count = defaultdict(int)\n",
    "for rawfile in ce_raw_map.keys():\n",
    "    try:\n",
    "        ce_spectra_count[ce_raw_map[rawfile]] += spectra_count.loc[rawfile][\"spectra\"]\n",
    "    except KeyError:\n",
    "        continue"
   ]
  },
  {
   "cell_type": "code",
   "execution_count": 27,
   "metadata": {},
   "outputs": [],
   "source": [
    "rescoring_methods = [\"no rescoring\", \"searchengine\", \"ms2rescore\"]\n",
    "ce_counts = []\n",
    "for i, df in enumerate([pin.df, searchengine.df, ms2rescore.df]):\n",
    "    rescoring_df = df.copy()\n",
    "    rescoring_df[\"CE\"] = map_psmid_ce_value(rescoring_df.PSMId, ce_raw_map)\n",
    "    tmp = rescoring_df[(rescoring_df[\"q\"] < 0.01) & (rescoring_df[\"is decoy\"] == False)].groupby(\"CE\").agg({\"peptide\":\"count\", \"PSMId\": list}).reset_index().rename({\"peptide\": f\"psm count {rescoring_methods[i]}\",\"PSMId\": f\"PSMId_{rescoring_methods[i]}\"}, axis=1)\n",
    "    ce_counts.append(tmp)\n",
    "\n",
    "ce_count_df = reduce(lambda left,right:pd.merge(left, right, on=[\"CE\"], how=\"outer\"), ce_counts)\n",
    "ce_count_df = ce_count_df[[\"CE\", \"psm count no rescoring\", \"psm count searchengine\", \"psm count ms2rescore\", \"PSMId_no rescoring\", \"PSMId_searchengine\", \"PSMId_ms2rescore\"]]"
   ]
  },
  {
   "cell_type": "code",
   "execution_count": 28,
   "metadata": {},
   "outputs": [],
   "source": [
    "ms2rescore_loss_gain = []\n",
    "for i,row in ce_count_df.iterrows():\n",
    "    tmp = {}\n",
    "    tmp[\"CE\"] = row.CE\n",
    "    num_ids = len(set(row[\"PSMId_searchengine\"]))\n",
    "    tmp[\"shared\"] = (len(set(row[\"PSMId_searchengine\"]).intersection(set(row.PSMId_ms2rescore)))/num_ids) * 100\n",
    "    tmp[\"gain\"] = (len(set(row.PSMId_ms2rescore) - set(row[\"PSMId_searchengine\"]))/num_ids) * 100\n",
    "    tmp[\"loss\"] = (len(set(row[\"PSMId_searchengine\"]) - set(row.PSMId_ms2rescore))/num_ids) * 100\n",
    "    ms2rescore_loss_gain.append(tmp)\n",
    "ms2rescore_loss_gain = pd.DataFrame(ms2rescore_loss_gain)"
   ]
  },
  {
   "cell_type": "code",
   "execution_count": 29,
   "metadata": {},
   "outputs": [],
   "source": [
    "ms2rescore_loss_gain[\"loss\"] =ms2rescore_loss_gain[\"loss\"] * -1\n",
    "ms2rescore_loss_gain[\"gain\"] =ms2rescore_loss_gain[\"gain\"] + 100"
   ]
  },
  {
   "cell_type": "code",
   "execution_count": 30,
   "metadata": {},
   "outputs": [],
   "source": [
    "ce_count_df.sort_values(\"psm count searchengine\", ascending=False, inplace=True)\n",
    "ms2rescore_loss_gain = ms2rescore_loss_gain.reindex(ce_count_df[\"CE\"].index)"
   ]
  },
  {
   "cell_type": "code",
   "execution_count": 31,
   "metadata": {},
   "outputs": [
    {
     "data": {
      "image/png": "[encoded data removed]",
      "text/plain": [
       "<Figure size 576x216 with 1 Axes>"
      ]
     },
     "execution_count": 31,
     "metadata": {},
     "output_type": "execute_result"
    }
   ],
   "source": [
    "sns.set_style(\"whitegrid\")\n",
    "fig = plt.Figure(figsize=(8,3))\n",
    "sns.set_color_codes(\"deep\")\n",
    "\n",
    "ax1 = fig.add_subplot(111)\n",
    "\n",
    "ce_relative_count = ce_count_df.copy()\n",
    "ce_relative_count.iloc[:,1:4] = ce_relative_count.iloc[:,1:4].div(ce_count_df[\"psm count no rescoring\"].values, axis=0)\n",
    "ce_relative_count.iloc[:,1:4] = ce_relative_count.iloc[:,1:4] * 100\n",
    "\n",
    "sns.barplot(x=\"psm count ms2rescore\", y=\"CE\", label=\"ms2rescore\", data=ce_relative_count, color=\"#2ca02c\", ax=ax1)\n",
    "sns.barplot(x=\"psm count searchengine\", y=\"CE\", label=\"searchengine\", data=ce_relative_count, color=\"#ff7f0e\", ax=ax1)\n",
    "sns.barplot(x=\"psm count no rescoring\", y=\"CE\", label=\"no rescoring\", data=ce_relative_count, color=\"#1f77b4\", ax=ax1)\n",
    "\n",
    "ax1.set_xlabel(\"identified PSMs (%)\")\n",
    "sns.despine(left=True, right=True, top=True, ax=ax1)\n",
    "fig\n"
   ]
  },
  {
   "cell_type": "code",
   "execution_count": 35,
   "metadata": {},
   "outputs": [
    {
     "data": {
      "image/png": "[encoded data removed]",
      "text/plain": [
       "<Figure size 1080x216 with 2 Axes>"
      ]
     },
     "execution_count": 35,
     "metadata": {},
     "output_type": "execute_result"
    }
   ],
   "source": [
    "sns.set_style(\"whitegrid\")\n",
    "fig = plt.Figure(figsize=(15,3))\n",
    "sns.set_color_codes(\"deep\")\n",
    "\n",
    "ax1 = fig.add_subplot(121)\n",
    "\n",
    "ce_id_rate = ce_count_df.copy()\n",
    "ce_id_rate.iloc[:,1:4] = ce_id_rate.iloc[:,1:4].div(pd.Series(ce_spectra_count).reindex(ce_id_rate[\"CE\"]).values, axis=0)\n",
    "\n",
    "sns.barplot(x=\"psm count ms2rescore\", y=\"CE\", label=\"ms2rescore\", data=ce_id_rate, color=\"#2ca02c\", ax=ax1)\n",
    "sns.barplot(x=\"psm count searchengine\", y=\"CE\", label=\"searchengine\", data=ce_id_rate, color=\"#ff7f0e\", ax=ax1)\n",
    "sns.barplot(x=\"psm count no rescoring\", y=\"CE\", label=\"no rescoring\", data=ce_id_rate, color=\"#1f77b4\", ax=ax1)\n",
    "\n",
    "ax1.set_xlabel(\"Spectrum identification rate(%)\")\n",
    "sns.despine(left=True, right=True, top=True, ax=ax1)\n",
    "\n",
    "ax2 = fig.add_subplot(122)\n",
    "\n",
    "sns.barplot(\n",
    "    y=\"CE\",\n",
    "    x=\"gain\",\n",
    "    data=ms2rescore_loss_gain,\n",
    "    palette=sns.color_palette([\"#2FA92D\"]),\n",
    "    ax=ax2,\n",
    ")\n",
    "sns.barplot(\n",
    "    y=\"CE\",\n",
    "    x=\"shared\",\n",
    "    data=ms2rescore_loss_gain,\n",
    "    palette=sns.color_palette([\"#1AA3FF\"]),\n",
    "    ax=ax2,\n",
    ")\n",
    "sns.barplot(\n",
    "    y=\"CE\",\n",
    "    x=\"loss\",\n",
    "    data=ms2rescore_loss_gain,\n",
    "    palette=sns.color_palette([\"#FF0000\"]),\n",
    "    ax=ax2,\n",
    ")\n",
    "ax2.set_xlabel(\"Identfied PSMs(%)\")\n",
    "ax2.set_xlim(-2,165)\n",
    "ax2.set_ylabel(\"\")\n",
    "ax2.set(yticklabels=[])\n",
    "sns.despine(left=True, right=True, top=True, ax=ax2)\n",
    "\n",
    "fig\n",
    "\n"
   ]
  },
  {
   "cell_type": "markdown",
   "metadata": {},
   "source": [
    "# Weights analysis"
   ]
  },
  {
   "cell_type": "code",
   "execution_count": 55,
   "metadata": {},
   "outputs": [],
   "source": [
    "def calculate_feature_weights(weights_file, ce):\n",
    "    feature_weights = {}\n",
    "    feature_weights[\"CE\"] = ce\n",
    "\n",
    "    weights = pd.read_table(weights_file, sep=\"\\t\")\n",
    "    weights.drop([1,2,4,5,7], axis=0, inplace=True)\n",
    "    weights.drop(\"m0\", axis=1, inplace=True)\n",
    "    weights = weights.astype(float)\n",
    "    weights.loc[\"mean\"] = weights.mean()\n",
    "\n",
    "    total_weight = sum(weights.iloc[3, :71].abs()) + sum(weights.iloc[3, 71:77].abs()) + sum(weights.iloc[3, 77:].abs())\n",
    "    feature_weights[\"MS²PIP\"] = (sum(weights.iloc[3, :71].abs())  /total_weight) * 100\n",
    "    feature_weights[\"DeepLC\"] = (sum(weights.iloc[3, 71:77].abs()) /total_weight) * 100\n",
    "    feature_weights[\"Search engine\"] = (sum(weights.iloc[3, 77:].abs()) /total_weight) * 100\n",
    "    \n",
    "\n",
    "    return feature_weights"
   ]
  },
  {
   "cell_type": "code",
   "execution_count": 56,
   "metadata": {},
   "outputs": [],
   "source": [
    "weights_df = pd.DataFrame([calculate_feature_weights(f\"/public/compomics/arthur/CNRS/ce_eval/msms_ce/msms{x}_searchengine_ms2pip_rt_features.weights\", x) for x in [\"25\", \"27\", \"30\", \"32\" ,\"35\"]])\n",
    "weights_df[\"Search engine\"] = weights_df[\"Search engine\"] + weights_df[\"MS²PIP\"]\n",
    "weights_df[\"DeepLC\"] = weights_df[\"Search engine\"] + weights_df[\"DeepLC\"]\n",
    "\n",
    "weights_df = weights_df.reindex(ce_count_df[\"CE\"].index)"
   ]
  },
  {
   "cell_type": "code",
   "execution_count": 80,
   "metadata": {},
   "outputs": [
    {
     "data": {
      "image/png": "[encoded data removed]",
      "text/plain": [
       "<Figure size 1440x216 with 3 Axes>"
      ]
     },
     "execution_count": 80,
     "metadata": {},
     "output_type": "execute_result"
    }
   ],
   "source": [
    "sns.set_style(\"whitegrid\")\n",
    "fig = plt.Figure(figsize=(20,3))\n",
    "sns.set_color_codes(\"deep\")\n",
    "order = [2,1,0]\n",
    "\n",
    "ax1 = fig.add_subplot(131)\n",
    "\n",
    "\n",
    "sns.barplot(x=\"psm count ms2rescore\", y=\"CE\", label=\"ms2rescore\", data=ce_id_rate, color=\"#2ca02c\", ax=ax1)\n",
    "sns.barplot(x=\"psm count searchengine\", y=\"CE\", label=\"searchengine\", data=ce_id_rate, color=\"#ff7f0e\", ax=ax1)\n",
    "sns.barplot(x=\"psm count no rescoring\", y=\"CE\", label=\"no rescoring\", data=ce_id_rate, color=\"#1f77b4\", ax=ax1)\n",
    "handles, labels = ax1.get_legend_handles_labels()\n",
    "ax1.legend(\n",
    "    [handles[idx] for idx in order],\n",
    "    [labels[idx] for idx in order],\n",
    "    frameon=False, \n",
    "    ncol=3, \n",
    "    bbox_to_anchor=(1.15,1.25)\n",
    ")\n",
    "ax1.set_xlabel(\"Spectrum identification rate(%)\")\n",
    "sns.despine(left=True, right=True, top=True, ax=ax1)\n",
    "\n",
    "ax2 = fig.add_subplot(132)\n",
    "\n",
    "sns.barplot(\n",
    "    y=\"CE\",\n",
    "    x=\"gain\",\n",
    "    data=ms2rescore_loss_gain,\n",
    "    palette=sns.color_palette([\"#2FA92D\"]),\n",
    "    ax=ax2,\n",
    "    label=\"gain\"\n",
    ")\n",
    "sns.barplot(\n",
    "    y=\"CE\",\n",
    "    x=\"shared\",\n",
    "    data=ms2rescore_loss_gain,\n",
    "    palette=sns.color_palette([\"#1AA3FF\"]),\n",
    "    ax=ax2,\n",
    "    label=\"shared\"\n",
    ")\n",
    "sns.barplot(\n",
    "    y=\"CE\",\n",
    "    x=\"loss\",\n",
    "    data=ms2rescore_loss_gain,\n",
    "    palette=sns.color_palette([\"#FF0000\"]),\n",
    "    ax=ax2,\n",
    "    label=\"loss\"\n",
    ")\n",
    "ax2.set_xlabel(\"Identfied PSMs(%)\")\n",
    "ax2.set_xlim(-2,165)\n",
    "ax2.set_ylabel(\"\")\n",
    "ax2.set(yticklabels=[])\n",
    "handles, labels = ax2.get_legend_handles_labels()\n",
    "ax2.legend(\n",
    "    [handles[idx] for idx in order],\n",
    "    [labels[idx] for idx in order],\n",
    "    frameon=False, \n",
    "    ncol=3, \n",
    "    bbox_to_anchor=(1,1.25)\n",
    ")\n",
    "sns.despine(left=True, right=True, top=True, ax=ax2)\n",
    "\n",
    "ax3 = fig.add_subplot(133)\n",
    "\n",
    "sns.barplot(\n",
    "    y=\"CE\",\n",
    "    x=\"DeepLC\",\n",
    "    data=weights_df,\n",
    "    palette=sns.color_palette([\"#28ea22\"]),\n",
    "    ax=ax3,\n",
    "    label=\"DeepLC\"\n",
    ")\n",
    "sns.barplot(\n",
    "    y=\"CE\",\n",
    "    x=\"Search engine\",\n",
    "    data=weights_df,\n",
    "    palette=sns.color_palette([\"#FFCD27\"]),\n",
    "    ax=ax3,\n",
    "    label=\"Search engine\"\n",
    ")\n",
    "sns.barplot(\n",
    "    y=\"CE\",\n",
    "    x=\"MS²PIP\",\n",
    "    data=weights_df,\n",
    "    palette=sns.color_palette([\"#1AA3FF\"]),\n",
    "    ax=ax3,\n",
    "    label=\"ms2pip\"\n",
    ")\n",
    "ax3.set_xlabel(\"weights (%)\")\n",
    "ax3.set_ylabel(\"\")\n",
    "ax3.set(yticklabels=[])\n",
    "handles, labels = ax3.get_legend_handles_labels()\n",
    "ax3.legend(\n",
    "    [handles[idx] for idx in order],\n",
    "    [labels[idx] for idx in order],\n",
    "    frameon=False, \n",
    "    ncol=3, \n",
    "    bbox_to_anchor=(1.15,1.25)\n",
    ")\n",
    "sns.despine(left=True, right=True, top=True, ax=ax3)\n",
    "\n",
    "fig\n"
   ]
  },
  {
   "cell_type": "code",
   "execution_count": null,
   "metadata": {},
   "outputs": [],
   "source": []
  }
 ],
 "metadata": {
  "interpreter": {
   "hash": "6eb6a9e0b3a52793eeab5d68c88975e829490e81355b7375f73ca3fc633a0ed0"
  },
  "kernelspec": {
   "display_name": "Python 3.8.12 64-bit ('ms2pip-dev': conda)",
   "language": "python",
   "name": "python3"
  },
  "language_info": {
   "codemirror_mode": {
    "name": "ipython",
    "version": 3
   },
   "file_extension": ".py",
   "mimetype": "text/x-python",
   "name": "python",
   "nbconvert_exporter": "python",
   "pygments_lexer": "ipython3",
   "version": "3.8.12"
  },
  "orig_nbformat": 4
 },
 "nbformat": 4,
 "nbformat_minor": 2
}
