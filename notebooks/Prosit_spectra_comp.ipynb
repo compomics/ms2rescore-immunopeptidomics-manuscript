{
 "cells": [
  {
   "cell_type": "code",
   "execution_count": 1,
   "metadata": {},
   "outputs": [],
   "source": [
    "from immuno_ms2rescore_tools.file_utilities import PrositLib\n",
    "import pandas as pd\n",
    "import numpy as np\n",
    "import xgboost as xgb\n",
    "from math import sqrt\n",
    "from math import acos\n",
    "import seaborn as sns\n",
    "import matplotlib.pyplot as plt\n",
    "from scipy.stats import pearsonr\n",
    "from math import acos\n",
    "import pickle"
   ]
  },
  {
   "cell_type": "code",
   "execution_count": 2,
   "metadata": {},
   "outputs": [],
   "source": [
    "sns.set_style(\"whitegrid\")\n",
    "sns.set_context(\"notebook\", font_scale=1.1)"
   ]
  },
  {
   "cell_type": "code",
   "execution_count": 3,
   "metadata": {},
   "outputs": [],
   "source": [
    "with open(\"data/training_upeps.pkl\", \"rb\") as f:\n",
    "    train_ovp = pickle.load(f)\n",
    "train_ovp = list(train_ovp.astype(str))"
   ]
  },
  {
   "cell_type": "markdown",
   "metadata": {},
   "source": [
    "# MS²PIP corr"
   ]
  },
  {
   "cell_type": "code",
   "execution_count": 4,
   "metadata": {},
   "outputs": [],
   "source": [
    "def load_data(vector_filename, ion_type):\n",
    "    # Read file\n",
    "    if vector_filename.split(\".\")[-1] == \"pkl\":\n",
    "        vectors = pd.read_pickle(vector_filename)\n",
    "    elif vector_filename.split(\".\")[-1] == \"h5\":\n",
    "        # vectors = pd.read_hdf(vector_filename, key='table', stop=1000)\n",
    "        vectors = pd.read_hdf(vector_filename, key=\"table\")\n",
    "    else:\n",
    "        print(\"Unsuported feature vector format\")\n",
    "        exit(1)\n",
    "\n",
    "    # Extract targets for given ion type\n",
    "    target_names = list(vectors.columns[vectors.columns.str.contains(\"targets\")])\n",
    "    if not \"targets_{}\".format(ion_type) in target_names:\n",
    "        print(\"Targets for {} could not be found in vector file.\".format(ion_type))\n",
    "        print(\"Vector file only contains these targets: {}\".format(target_names))\n",
    "        exit(1)\n",
    "\n",
    "    targets = vectors.pop(\"targets_{}\".format(ion_type))\n",
    "    target_names.remove(\"targets_{}\".format(ion_type))\n",
    "    for n in target_names:\n",
    "        vectors.pop(n)\n",
    "\n",
    "    # Get psmids\n",
    "    psmids = vectors.pop(\"psmid\")\n",
    "\n",
    "    return (vectors, targets, psmids)"
   ]
  },
  {
   "cell_type": "code",
   "execution_count": 5,
   "metadata": {},
   "outputs": [],
   "source": [
    "def ms2pip_pearson(true, pred):\n",
    "    \"\"\"\n",
    "    Return pearson of tic-normalized, log-transformed intensities, \n",
    "    the MS2PIP way.\n",
    "    \"\"\"\n",
    "    #tic_norm = lambda x: x / np.sum(x)\n",
    "    # log_transform = lambda x: np.log2(x + 0.001)\n",
    "    corr = pearsonr(\n",
    "        true, \n",
    "        pred\n",
    "    )[0]\n",
    "    return (corr)"
   ]
  },
  {
   "cell_type": "code",
   "execution_count": 6,
   "metadata": {},
   "outputs": [],
   "source": [
    "def spectral_angle(true, pred, epsilon=1e-7):\n",
    "    \"\"\"\n",
    "    Return square root normalized spectral angle.\n",
    "    See https://doi.org/10.1074/mcp.O113.036475\n",
    "    \"\"\"\n",
    "    true = np.array(true)\n",
    "    pred = np.array(pred)\n",
    "    \n",
    "    de_log = lambda x: (2**x)-0.001\n",
    "    l2_normalize = lambda x: x / sqrt(max(sum(x**2), epsilon))\n",
    "    \n",
    "    pred_norm = l2_normalize(de_log(pred))\n",
    "    true_norm = l2_normalize(de_log(true))\n",
    "    \n",
    "    spectral_angle = 1 - (2 * acos(np.dot(pred_norm, true_norm)) / np.pi)\n",
    "\n",
    "    return (spectral_angle)"
   ]
  },
  {
   "cell_type": "code",
   "execution_count": 7,
   "metadata": {},
   "outputs": [],
   "source": [
    "proteomics_vectorsY, proteomics_targetsY, proteomics_psmidsY = load_data(\"data/evaluation_data/PXD008034/tryptic_test_vector.pkl\", \"Y\")\n",
    "immunopeptide_vectorsY, immunopeptide_targetsY, immunopeptide_psmidsY = load_data(\"data/evaluation_data/PXD005231/HLAI_test.pkl\", \"Y\")\n",
    "hlaII_vectorsY, hlaII_targetsY, hlaII_psmidsY = load_data(\"data/evaluation_data/PXD020011/HLAII_test.pkl\", \"Y\")\n",
    "chymotrypsin_vectorsY, chymotrypsin_targetsY, chymotrypsin_psmidsY = load_data(\"data/evaluation_data/PXD010154/chymotrypsin_test.pkl\", \"Y\")"
   ]
  },
  {
   "cell_type": "code",
   "execution_count": 8,
   "metadata": {},
   "outputs": [],
   "source": [
    "proteomics_testY = xgb.DMatrix(proteomics_vectorsY, label=proteomics_targetsY)\n",
    "immunopeptide_testY = xgb.DMatrix(immunopeptide_vectorsY, label=immunopeptide_targetsY)\n",
    "hlaII_testY = xgb.DMatrix(hlaII_vectorsY, label=hlaII_targetsY)\n",
    "chymotrypsin_testY = xgb.DMatrix(chymotrypsin_vectorsY, label=chymotrypsin_targetsY)"
   ]
  },
  {
   "cell_type": "code",
   "execution_count": 9,
   "metadata": {},
   "outputs": [],
   "source": [
    "proteomics_vectorsB, proteomics_targetsB, proteomics_psmidsB = load_data(\"data/evaluation_data/PXD008034/tryptic_test_vector.pkl\", \"B\")\n",
    "immunopeptide_vectorsB, immunopeptide_targetsB, immunopeptide_psmidsB = load_data(\"data/evaluation_data/PXD005231/HLAI_test.pkl\", \"B\")\n",
    "hlaII_vectorsB, hlaII_targetsB, hlaII_psmidsB = load_data(\"data/evaluation_data/PXD020011/HLAII_test.pkl\", \"B\")\n",
    "chymotrypsin_vectorsB, chymotrypsin_targetsB, chymotrypsin_psmidsB = load_data(\"data/evaluation_data/PXD010154/chymotrypsin_test.pkl\", \"B\")\n"
   ]
  },
  {
   "cell_type": "code",
   "execution_count": 10,
   "metadata": {},
   "outputs": [],
   "source": [
    "proteomics_testB = xgb.DMatrix(proteomics_vectorsB, label=proteomics_targetsB)\n",
    "immunopeptide_testB = xgb.DMatrix(immunopeptide_vectorsB, label=immunopeptide_targetsB)\n",
    "hlaII_testB = xgb.DMatrix(hlaII_vectorsB, label=hlaII_targetsB)\n",
    "chymotrypsin_testB = xgb.DMatrix(chymotrypsin_vectorsB, label=chymotrypsin_targetsB)"
   ]
  },
  {
   "cell_type": "code",
   "execution_count": 11,
   "metadata": {},
   "outputs": [],
   "source": [
    "Y_models = {}\n",
    "B_models = {}"
   ]
  },
  {
   "cell_type": "code",
   "execution_count": 12,
   "metadata": {},
   "outputs": [],
   "source": [
    "joint_Y = xgb.Booster({'nthread': 8})  \n",
    "joint_Y.load_model(\"data/ms2pip_models/Hyperopt_joint_HCDy.xgboost\")\n",
    "Y_models[\"Immunopeptide model\"] = joint_Y\n",
    "\n",
    "joint_B = xgb.Booster({'nthread': 8})  \n",
    "joint_B.load_model(\"data/ms2pip_models/Hyperopt_joint_HCDb.xgboost\")\n",
    "B_models[\"Immunopeptide model\"] = joint_B\n",
    "\n",
    "Immunopeptide_chymotrypsin_Y = xgb.Booster({'nthread': 8})  \n",
    "Immunopeptide_chymotrypsin_Y.load_model(\"data/ms2pip_models/Immunopeptide_chymotrypsin_HCDy.xgboost\")\n",
    "Y_models[\"Immuno-chymotrypsin model\"] = Immunopeptide_chymotrypsin_Y\n",
    "\n",
    "Immunopeptide_chymotrypsin_B = xgb.Booster({'nthread': 8})  \n",
    "Immunopeptide_chymotrypsin_B.load_model(\"data/ms2pip_models/Immunopeptide_chymotrypsin_HCDb.xgboost\")\n",
    "B_models[\"Immuno-chymotrypsin model\"] = Immunopeptide_chymotrypsin_B"
   ]
  },
  {
   "cell_type": "code",
   "execution_count": 13,
   "metadata": {},
   "outputs": [],
   "source": [
    "proteomics_test = pd.DataFrame()\n",
    "proteomics_test[\"spec_id\"] = proteomics_psmidsY\n",
    "proteomics_test[\"target\"] = proteomics_targetsY\n",
    "proteomics_test[\"predictions\"] = Immunopeptide_chymotrypsin_Y.predict(proteomics_testY)\n",
    "proteomics_test[\"testset\"] = \"shotgun proteomics\"\n",
    "\n",
    "immunopeptide_test = pd.DataFrame()\n",
    "immunopeptide_test[\"spec_id\"] = immunopeptide_psmidsY\n",
    "immunopeptide_test[\"target\"] = immunopeptide_targetsY\n",
    "immunopeptide_test[\"predictions\"] = joint_Y.predict(immunopeptide_testY)\n",
    "immunopeptide_test[\"testset\"] = \"HLA-I\"\n",
    "\n",
    "hlaII_test = pd.DataFrame()\n",
    "hlaII_test[\"spec_id\"] = hlaII_psmidsY\n",
    "hlaII_test[\"target\"] = hlaII_targetsY\n",
    "hlaII_test[\"predictions\"] = joint_Y.predict(hlaII_testY)\n",
    "hlaII_test[\"testset\"] = \"HLA-II\"\n",
    "\n",
    "chymotrypsin_test = pd.DataFrame()\n",
    "chymotrypsin_test[\"spec_id\"] = chymotrypsin_psmidsY\n",
    "chymotrypsin_test[\"target\"] = chymotrypsin_targetsY\n",
    "chymotrypsin_test[\"predictions\"] = Immunopeptide_chymotrypsin_Y.predict(chymotrypsin_testY)\n",
    "chymotrypsin_test[\"testset\"] = \"chymotrypsin-digested\"\n",
    "\n",
    "Current_model_perfY = pd.concat([proteomics_test, immunopeptide_test, hlaII_test, chymotrypsin_test])\n",
    "Current_model_perfY[\"ion\"] = \"y\""
   ]
  },
  {
   "cell_type": "code",
   "execution_count": 14,
   "metadata": {},
   "outputs": [],
   "source": [
    "proteomics_test = pd.DataFrame()\n",
    "proteomics_test[\"spec_id\"] = proteomics_psmidsB\n",
    "proteomics_test[\"target\"] = proteomics_targetsB\n",
    "proteomics_test[\"predictions\"] = Immunopeptide_chymotrypsin_B.predict(proteomics_testY)\n",
    "proteomics_test[\"testset\"] = \"shotgun proteomics\"\n",
    "\n",
    "immunopeptide_test = pd.DataFrame()\n",
    "immunopeptide_test[\"spec_id\"] = immunopeptide_psmidsB\n",
    "immunopeptide_test[\"target\"] = immunopeptide_targetsB\n",
    "immunopeptide_test[\"predictions\"] = joint_B.predict(immunopeptide_testB)\n",
    "immunopeptide_test[\"testset\"] = \"HLA-I\"\n",
    "\n",
    "hlaII_test = pd.DataFrame()\n",
    "hlaII_test[\"spec_id\"] = hlaII_psmidsB\n",
    "hlaII_test[\"target\"] = hlaII_targetsB\n",
    "hlaII_test[\"predictions\"] = joint_B.predict(hlaII_testB)\n",
    "hlaII_test[\"testset\"] = \"HLA-II\"\n",
    "\n",
    "chymotrypsin_test = pd.DataFrame()\n",
    "chymotrypsin_test[\"spec_id\"] = chymotrypsin_psmidsB\n",
    "chymotrypsin_test[\"target\"] = chymotrypsin_targetsB\n",
    "chymotrypsin_test[\"predictions\"] = Immunopeptide_chymotrypsin_B.predict(chymotrypsin_testB)\n",
    "chymotrypsin_test[\"testset\"] = \"chymotrypsin-digested\"\n",
    "\n",
    "Current_model_perfB = pd.concat([proteomics_test, immunopeptide_test, hlaII_test, chymotrypsin_test])\n",
    "Current_model_perfB[\"ion\"] = \"b\"\n",
    "\n",
    "correlations = pd.concat([Current_model_perfY, Current_model_perfB])\n"
   ]
  },
  {
   "cell_type": "code",
   "execution_count": 15,
   "metadata": {},
   "outputs": [
    {
     "name": "stderr",
     "output_type": "stream",
     "text": [
      "/home/arthur/miniconda3/envs/ms2pip-dev/lib/python3.8/site-packages/scipy/stats/stats.py:3508: PearsonRConstantInputWarning: An input array is constant; the correlation coefficent is not defined.\n",
      "  warnings.warn(PearsonRConstantInputWarning())\n"
     ]
    }
   ],
   "source": [
    "ms2pip_corr = correlations.groupby(by=[\"spec_id\", \"testset\"]).agg({\"target\": list, \"predictions\": list}).reset_index()\n",
    "ms2pip_corr[\"length\"] = ms2pip_corr.target.apply(len)\n",
    "ms2pip_corr = ms2pip_corr[ms2pip_corr[\"length\"] > 2]\n",
    "ms2pip_corr[\"PCC\"] = ms2pip_corr.apply(lambda x: ms2pip_pearson(x.target, x.predictions), axis=1)\n",
    "ms2pip_corr[\"SA\"] = ms2pip_corr.apply(lambda x: spectral_angle(x.target, x.predictions), axis=1)"
   ]
  },
  {
   "cell_type": "code",
   "execution_count": 16,
   "metadata": {},
   "outputs": [],
   "source": [
    "ms2pip_corr = ms2pip_corr.melt(\n",
    "    id_vars=[\"spec_id\",\"testset\",\"target\", \"predictions\"], \n",
    "    value_vars=[\"PCC\", \"SA\"], \n",
    "    var_name=\"correlation metric\", \n",
    "    value_name=\"correlation\"\n",
    ")"
   ]
  },
  {
   "cell_type": "code",
   "execution_count": 17,
   "metadata": {},
   "outputs": [
    {
     "data": {
      "text/plain": [
       "131943"
      ]
     },
     "execution_count": 17,
     "metadata": {},
     "output_type": "execute_result"
    }
   ],
   "source": [
    "len(ms2pip_corr[\"spec_id\"].unique())"
   ]
  },
  {
   "cell_type": "code",
   "execution_count": 18,
   "metadata": {},
   "outputs": [
    {
     "data": {
      "text/plain": [
       "86243"
      ]
     },
     "execution_count": 18,
     "metadata": {},
     "output_type": "execute_result"
    }
   ],
   "source": [
    "ms2pip_corr[\"spec_id\"] = ms2pip_corr[\"spec_id\"].astype(str)\n",
    "ms2pip_corr = ms2pip_corr[~(ms2pip_corr[\"spec_id\"].isin(train_ovp))]\n",
    "\n",
    "len(ms2pip_corr[\"spec_id\"].unique())"
   ]
  },
  {
   "cell_type": "markdown",
   "metadata": {},
   "source": [
    "# Prosit corr"
   ]
  },
  {
   "cell_type": "code",
   "execution_count": 19,
   "metadata": {},
   "outputs": [],
   "source": [
    "def get_prosit_corr(data_dict):\n",
    "    dataframes = []\n",
    "    for testset, file in data_dict.items():\n",
    "        pr = PrositLib(file)\n",
    "        #pr.prositlib = pr.prositlib[~(pr.prositlib[\"FragmentCharge\"].isna())]\n",
    "        prediction_df = pr.calculate_prediction_correlation([\"spec_id\", \"ce\", \"ion\"])\n",
    "        if \"HLA-I \" in testset:\n",
    "            prediction_df[\"testset\"] = \"HLA-I\"\n",
    "        else:\n",
    "            prediction_df[\"testset\"] = testset\n",
    "        dataframes.append(prediction_df)\n",
    "        print(f\"done {testset}\")\n",
    "    \n",
    "    correlation_df = pd.concat(dataframes)\n",
    "    #correlation_df[\"ion\"] = correlation_df[\"ion\"].str.lower()\n",
    "    correlation_df = correlation_df[~(correlation_df[\"PCC\"].isna())] # remove nan values for peptides that were not present in prosit output\n",
    "    return correlation_df"
   ]
  },
  {
   "cell_type": "code",
   "execution_count": 20,
   "metadata": {},
   "outputs": [],
   "source": [
    "prosit_tests = {\n",
    "    \"shotgun proteomics\" : \"data/Prosit_comparison/HCD_PXD008034_Ecoli_prosit_predictions_ce_ramp.csv\",\n",
    "    \"chymotrypsin-digested\" : \"data/Prosit_comparison/test_spec_lib_PXD010154_prosit_predictions_ce_ramp.csv\",\n",
    "    \"HLA-II\": \"data/Prosit_comparison/spec_lib_pxd020011_prosit_predictions_ce_ramp.csv\",\n",
    "    \"HLA-I fusion\" : \"data/Prosit_comparison/spec_lib_PXD005231_fusion_prosit_predictions_ce_ramp.csv\",\n",
    "    \"HLA-I q\" : \"data/Prosit_comparison/spec_lib_PXD005231_q_exac_prosit_predictions_ce_ramp.csv\" \n",
    "\n",
    "}"
   ]
  },
  {
   "cell_type": "code",
   "execution_count": 21,
   "metadata": {},
   "outputs": [
    {
     "name": "stdout",
     "output_type": "stream",
     "text": [
      "done shotgun proteomics\n",
      "done chymotrypsin-digested\n",
      "done HLA-II\n",
      "done HLA-I fusion\n",
      "done HLA-I q\n"
     ]
    }
   ],
   "source": [
    "prosit_correlations = get_prosit_corr(prosit_tests)"
   ]
  },
  {
   "cell_type": "code",
   "execution_count": 22,
   "metadata": {},
   "outputs": [],
   "source": [
    "prosit_correlations[\"spec_id\"] = prosit_correlations[\"spec_id\"].astype(str)\n"
   ]
  },
  {
   "cell_type": "code",
   "execution_count": 23,
   "metadata": {},
   "outputs": [],
   "source": [
    "prosit_cor = prosit_correlations.melt(id_vars=[\"spec_id\",\"ce\", \"prediction\", \"target\", \"testset\"], value_vars=[\"PCC\", \"SA\"], var_name=\"correlation metric\", value_name=\"correlation\")\n",
    "prosit_cor = prosit_cor[~(prosit_cor[\"spec_id\"].isin(train_ovp))]"
   ]
  },
  {
   "cell_type": "code",
   "execution_count": 24,
   "metadata": {},
   "outputs": [
    {
     "data": {
      "image/png": "[encoded data removed]",
      "text/plain": [
       "<Figure size 1008x720 with 8 Axes>"
      ]
     },
     "execution_count": 24,
     "metadata": {},
     "output_type": "execute_result"
    }
   ],
   "source": [
    "fig = plt.Figure(figsize=(14,10))\n",
    "\n",
    "model_map = {\n",
    "    \"shotgun proteomics\": \"Immuno-chymotrypsin model\",\n",
    "    \"HLA-I\": \"Immunopeptide model\",\n",
    "    \"HLA-II\": \"Immunopeptide model\",\n",
    "    \"chymotrypsin-digested\": \"Immuno-chymotrypsin model\"\n",
    "}\n",
    "\n",
    "for i, testset in enumerate([\"shotgun proteomics\", \"HLA-I\", \"HLA-II\", \"chymotrypsin-digested\"]):\n",
    "\n",
    "    ax1 = plt.subplot2grid((4,6),(i,0), fig=fig)\n",
    "    sns.boxplot(\n",
    "        data=ms2pip_corr[\n",
    "            (ms2pip_corr[\"testset\"] == testset) & \n",
    "            (ms2pip_corr[\"spec_id\"].isin(prosit_correlations[\"spec_id\"]))\n",
    "            ],\n",
    "        x=\"testset\",\n",
    "        y=\"correlation\",\n",
    "        hue=\"correlation metric\",\n",
    "        ax=ax1,\n",
    "        showfliers=False\n",
    "        )\n",
    "    ax1.set_ylim(0,1.05)\n",
    "    ax1.get_legend().remove()\n",
    "    ax1.set(xticklabels=[], xlabel=\"\")\n",
    "\n",
    "    ax2 = plt.subplot2grid((4,6),(i,1), colspan=5, fig=fig, sharey=ax1)\n",
    "    sns.boxplot(\n",
    "        x=\"ce\",\n",
    "        y=\"correlation\",\n",
    "        hue=\"correlation metric\",\n",
    "        data=prosit_cor[prosit_cor[\"testset\"] == testset],\n",
    "        showfliers=False,\n",
    "        ax=ax2\n",
    "        )\n",
    "    ax2.yaxis.set_label_position(\"right\")\n",
    "    ax2.set_ylabel(f\"{testset}\", rotation=0, labelpad=80)\n",
    "    if i==0:\n",
    "        ax1.set_title(\"ms2pip correlation\")\n",
    "        ax2.set_title(\"prosit correlation\")\n",
    "        ax2.legend(bbox_to_anchor=(1.01,1.48))\n",
    "\n",
    "    else:\n",
    "        ax2.get_legend().remove()\n",
    "\n",
    "\n",
    "fig.tight_layout()\n",
    "fig.savefig(\"data/Figures/FigureS10.svg\")\n",
    "fig\n",
    "\n"
   ]
  },
  {
   "cell_type": "code",
   "execution_count": null,
   "metadata": {},
   "outputs": [],
   "source": []
  }
 ],
 "metadata": {
  "interpreter": {
   "hash": "ed1ad093c251a0d057e5d3ce8d1418941b16634f4c1a298d15d5b79b838b1af0"
  },
  "kernelspec": {
   "display_name": "Python 3.9.5 ('base')",
   "language": "python",
   "name": "python3"
  },
  "language_info": {
   "codemirror_mode": {
    "name": "ipython",
    "version": 3
   },
   "file_extension": ".py",
   "mimetype": "text/x-python",
   "name": "python",
   "nbconvert_exporter": "python",
   "pygments_lexer": "ipython3",
   "version": "3.8.12"
  },
  "orig_nbformat": 4
 },
 "nbformat": 4,
 "nbformat_minor": 2
}
